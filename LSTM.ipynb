{
  "nbformat": 4,
  "nbformat_minor": 0,
  "metadata": {
    "colab": {
      "name": "LSTM.ipynb",
      "provenance": [],
      "collapsed_sections": []
    },
    "kernelspec": {
      "name": "python3",
      "display_name": "Python 3"
    }
  },
  "cells": [
    {
      "cell_type": "code",
      "metadata": {
        "id": "5q9i9BqDiF3J",
        "colab_type": "code",
        "colab": {
          "base_uri": "https://localhost:8080/",
          "height": 204
        },
        "outputId": "677a810a-03db-486f-ad2b-f3c0967e8916"
      },
      "source": [
        " \n",
        "!wget -P /root/input/ -c \"https://s3.amazonaws.com/dl4j-distribution/GoogleNews-vectors-negative300.bin.gz\"\n"
      ],
      "execution_count": null,
      "outputs": [
        {
          "output_type": "stream",
          "text": [
            "--2020-06-04 04:59:18--  https://s3.amazonaws.com/dl4j-distribution/GoogleNews-vectors-negative300.bin.gz\n",
            "Resolving s3.amazonaws.com (s3.amazonaws.com)... 52.216.29.94\n",
            "Connecting to s3.amazonaws.com (s3.amazonaws.com)|52.216.29.94|:443... connected.\n",
            "HTTP request sent, awaiting response... 200 OK\n",
            "Length: 1647046227 (1.5G) [application/x-gzip]\n",
            "Saving to: ‘/root/input/GoogleNews-vectors-negative300.bin.gz’\n",
            "\n",
            "GoogleNews-vectors- 100%[===================>]   1.53G  54.5MB/s    in 25s     \n",
            "\n",
            "2020-06-04 04:59:43 (63.1 MB/s) - ‘/root/input/GoogleNews-vectors-negative300.bin.gz’ saved [1647046227/1647046227]\n",
            "\n"
          ],
          "name": "stdout"
        }
      ]
    },
    {
      "cell_type": "code",
      "metadata": {
        "id": "WZxOSg0Zg5Zh",
        "colab_type": "code",
        "colab": {
          "base_uri": "https://localhost:8080/",
          "height": 1000
        },
        "outputId": "36acd6a3-2348-4b26-9e06-641aecf5c2ad"
      },
      "source": [
        "import os\n",
        "import tensorflow\n",
        "import numpy as np\n",
        "os.environ['KERAS_BACKEND'] = 'tensorflow'\n",
        "\n",
        "from sklearn.model_selection import train_test_split \n",
        "import keras\n",
        "from keras.models import Sequential\n",
        "from keras.layers import Dense, Embedding, LSTM, SpatialDropout1D\n",
        "from keras.preprocessing.text import Tokenizer\n",
        "from keras.preprocessing.sequence import pad_sequences\n",
        "\n",
        "import pandas as pd\n",
        "from termcolor import colored\n",
        "from keras.models import Sequential\n",
        "from keras.layers import Dense\n",
        "from keras.layers import LSTM\n",
        "from matplotlib import pyplot\n",
        "from numpy import array\n",
        "\n",
        "print(colored(\"Loading train and test data\", \"blue\"))\n",
        "df = pd.read_csv(r'coronatweets.csv')\n",
        "train_data, test_data = train_test_split(df, test_size=0.2, random_state=1) \n",
        "print(colored(\"Data loaded\", \"blue\"))\n",
        "\n",
        "print(colored(\"Tokenizing and padding data\", \"blue\"))\n",
        "tokenizer = Tokenizer(num_words = 2000, split = ' ')\n",
        "tokenizer.fit_on_texts(train_data['full_text'].astype(str).values)\n",
        "train_tweets = tokenizer.texts_to_sequences(train_data['full_text'].astype(str).values)\n",
        "max_len = max([len(i) for i in train_tweets])\n",
        "train_tweets = pad_sequences(train_tweets, maxlen = max_len)\n",
        "test_tweets = tokenizer.texts_to_sequences(test_data['full_text'].astype(str).values)\n",
        "test_tweets = pad_sequences(test_tweets, maxlen = max_len)\n",
        "print(colored(\"Tokenizing and padding complete\", \"blue\"))\n",
        "print(colored(\"Printing tweets converted to numeric vectors\",\"blue\"))\n",
        "\n",
        "\n",
        "print(colored(\"Creating the LSTM model\", \"blue\"))\n",
        "model = Sequential()\n",
        "model.add(Embedding(2000, 128, input_length = train_tweets.shape[1]))\n",
        "model.add(SpatialDropout1D(0.4))\n",
        "model.add(LSTM(256, dropout = 0.3))\n",
        "model.add(Dense(3, activation = 'softmax'))\n",
        "model.compile(loss = 'binary_crossentropy', optimizer = 'RMSprop', metrics = ['accuracy'])\n",
        "model.summary()\n",
        "\n",
        "print(colored(\"Training the LSTM model\", \"green\"))\n",
        "history = model.fit(train_tweets, pd.get_dummies(train_data['sent_score']).values, epochs = 10, batch_size = 256,validation_split=0.2)\n",
        "print(colored(history, \"green\"))\n",
        "\n",
        "print(colored(\"Testing the LSTM model\", \"green\"))\n",
        "score, accuracy = model.evaluate(test_tweets, pd.get_dummies(test_data['sent_score']).values, batch_size = 256)\n",
        "print(\"Test accuracy: {}\".format(accuracy))\n",
        "\n",
        "from matplotlib import pyplot\n",
        "from numpy import array\n",
        "\n",
        "pyplot.plot(history.history['loss'])\n",
        "pyplot.plot(history.history['val_loss'])\n",
        "pyplot.title('model train vs validation loss')\n",
        "pyplot.ylabel('loss')\n",
        "pyplot.xlabel('epoch')\n",
        "pyplot.legend(['train', 'validation'], loc='upper right')\n",
        "pyplot.show()\n",
        "\n",
        "\n",
        " \n"
      ],
      "execution_count": null,
      "outputs": [
        {
          "output_type": "stream",
          "text": [
            "\u001b[34mLoading train and test data\u001b[0m\n",
            "\u001b[34mData loaded\u001b[0m\n",
            "\u001b[34mTokenizing and padding data\u001b[0m\n",
            "\u001b[34mTokenizing and padding complete\u001b[0m\n",
            "\u001b[34mPrinting tweets converted to numeric vectors\u001b[0m\n",
            "\u001b[34mCreating the LSTM model\u001b[0m\n",
            "Model: \"sequential_3\"\n",
            "_________________________________________________________________\n",
            "Layer (type)                 Output Shape              Param #   \n",
            "=================================================================\n",
            "embedding_3 (Embedding)      (None, 34, 128)           256000    \n",
            "_________________________________________________________________\n",
            "spatial_dropout1d_3 (Spatial (None, 34, 128)           0         \n",
            "_________________________________________________________________\n",
            "lstm_3 (LSTM)                (None, 256)               394240    \n",
            "_________________________________________________________________\n",
            "dense_3 (Dense)              (None, 3)                 771       \n",
            "=================================================================\n",
            "Total params: 651,011\n",
            "Trainable params: 651,011\n",
            "Non-trainable params: 0\n",
            "_________________________________________________________________\n",
            "\u001b[32mTraining the LSTM model\u001b[0m\n"
          ],
          "name": "stdout"
        },
        {
          "output_type": "stream",
          "text": [
            "/usr/local/lib/python3.6/dist-packages/tensorflow/python/framework/indexed_slices.py:434: UserWarning: Converting sparse IndexedSlices to a dense Tensor of unknown shape. This may consume a large amount of memory.\n",
            "  \"Converting sparse IndexedSlices to a dense Tensor of unknown shape. \"\n"
          ],
          "name": "stderr"
        },
        {
          "output_type": "stream",
          "text": [
            "Train on 7708 samples, validate on 1928 samples\n",
            "Epoch 1/10\n",
            "7708/7708 [==============================] - 20s 3ms/step - loss: 0.5972 - accuracy: 0.6866 - val_loss: 0.5509 - val_accuracy: 0.7030\n",
            "Epoch 2/10\n",
            "7708/7708 [==============================] - 19s 3ms/step - loss: 0.5141 - accuracy: 0.7352 - val_loss: 0.6454 - val_accuracy: 0.6741\n",
            "Epoch 3/10\n",
            "7708/7708 [==============================] - 20s 3ms/step - loss: 0.4494 - accuracy: 0.7841 - val_loss: 0.5005 - val_accuracy: 0.7538\n",
            "Epoch 4/10\n",
            "7708/7708 [==============================] - 20s 3ms/step - loss: 0.4069 - accuracy: 0.8143 - val_loss: 0.4750 - val_accuracy: 0.7784\n",
            "Epoch 5/10\n",
            "7708/7708 [==============================] - 20s 3ms/step - loss: 0.3690 - accuracy: 0.8312 - val_loss: 0.4516 - val_accuracy: 0.7823\n",
            "Epoch 6/10\n",
            "7708/7708 [==============================] - 20s 3ms/step - loss: 0.3478 - accuracy: 0.8449 - val_loss: 0.4422 - val_accuracy: 0.7872\n",
            "Epoch 7/10\n",
            "7708/7708 [==============================] - 20s 3ms/step - loss: 0.3311 - accuracy: 0.8534 - val_loss: 0.4421 - val_accuracy: 0.7905\n",
            "Epoch 8/10\n",
            "7708/7708 [==============================] - 20s 3ms/step - loss: 0.3143 - accuracy: 0.8644 - val_loss: 0.4565 - val_accuracy: 0.7944\n",
            "Epoch 9/10\n",
            "7708/7708 [==============================] - 19s 3ms/step - loss: 0.2992 - accuracy: 0.8704 - val_loss: 0.4674 - val_accuracy: 0.8010\n",
            "Epoch 10/10\n",
            "7708/7708 [==============================] - 20s 3ms/step - loss: 0.2912 - accuracy: 0.8744 - val_loss: 0.4824 - val_accuracy: 0.7962\n",
            "\u001b[32m<keras.callbacks.callbacks.History object at 0x7fdefd2a9940>\u001b[0m\n",
            "\u001b[32mTesting the LSTM model\u001b[0m\n",
            "2409/2409 [==============================] - 2s 660us/step\n",
            "Test accuracy: 0.7877404689788818\n"
          ],
          "name": "stdout"
        },
        {
          "output_type": "display_data",
          "data": {
            "image/png": "[encoded data removed]",
            "text/plain": [
              "<Figure size 432x288 with 1 Axes>"
            ]
          },
          "metadata": {
            "tags": [],
            "needs_background": "light"
          }
        }
      ]
    },
    {
      "cell_type": "code",
      "metadata": {
        "id": "eYBt6kPKt39L",
        "colab_type": "code",
        "colab": {
          "base_uri": "https://localhost:8080/",
          "height": 34
        },
        "outputId": "33e6806d-9dc4-4834-e2e4-49c366bc594f"
      },
      "source": [
        "print(accuracy)"
      ],
      "execution_count": null,
      "outputs": [
        {
          "output_type": "stream",
          "text": [
            "0.7902311682701111\n"
          ],
          "name": "stdout"
        }
      ]
    },
    {
      "cell_type": "code",
      "metadata": {
        "id": "fMNoPXM6aF62",
        "colab_type": "code",
        "colab": {}
      },
      "source": [
        ""
      ],
      "execution_count": null,
      "outputs": []
    },
    {
      "cell_type": "code",
      "metadata": {
        "id": "iRbYCz2Mae4F",
        "colab_type": "code",
        "colab": {}
      },
      "source": [
        ""
      ],
      "execution_count": null,
      "outputs": []
    }
  ]
}