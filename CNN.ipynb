{
  "nbformat": 4,
  "nbformat_minor": 0,
  "metadata": {
    "colab": {
      "name": "CNN.ipynb",
      "provenance": [],
      "collapsed_sections": []
    },
    "kernelspec": {
      "name": "python3",
      "display_name": "Python 3"
    }
  },
  "cells": [
    {
      "cell_type": "code",
      "metadata": {
        "id": "12G7EMRKXLUI",
        "colab_type": "code",
        "colab": {
          "base_uri": "https://localhost:8080/",
          "height": 219
        },
        "outputId": "f04876da-f6f3-428c-92c6-33120f21d11b"
      },
      "source": [
        "\n",
        "!wget -P /root/input/ -c \"https://s3.amazonaws.com/dl4j-distribution/GoogleNews-vectors-negative300.bin.gz\""
      ],
      "execution_count": null,
      "outputs": [
        {
          "output_type": "stream",
          "text": [
            "--2020-06-04 06:08:13--  https://s3.amazonaws.com/dl4j-distribution/GoogleNews-vectors-negative300.bin.gz\n",
            "Resolving s3.amazonaws.com (s3.amazonaws.com)... 52.216.104.181\n",
            "Connecting to s3.amazonaws.com (s3.amazonaws.com)|52.216.104.181|:443... connected.\n",
            "HTTP request sent, awaiting response... 200 OK\n",
            "Length: 1647046227 (1.5G) [application/x-gzip]\n",
            "Saving to: ‘/root/input/GoogleNews-vectors-negative300.bin.gz’\n",
            "\n",
            "GoogleNews-vectors- 100%[===================>]   1.53G  48.2MB/s    in 33s     \n",
            "\n",
            "2020-06-04 06:08:47 (47.3 MB/s) - ‘/root/input/GoogleNews-vectors-negative300.bin.gz’ saved [1647046227/1647046227]\n",
            "\n"
          ],
          "name": "stdout"
        }
      ]
    },
    {
      "cell_type": "code",
      "metadata": {
        "id": "WXo8i8tGXQ_k",
        "colab_type": "code",
        "colab": {
          "base_uri": "https://localhost:8080/",
          "height": 1000
        },
        "outputId": "b3f4e48b-b765-4185-9bed-90d2d48a023f"
      },
      "source": [
        "\n",
        "import gensim.models.keyedvectors as word2vec \n",
        "from nltk.tokenize import RegexpTokenizer\n",
        "\n",
        "from keras.models import Sequential\n",
        "from keras.layers.embeddings import Embedding\n",
        "from keras.preprocessing.sequence import pad_sequences\n",
        "from keras.preprocessing.text import Tokenizer\n",
        "from keras.layers import LSTM, Conv1D, Dense, Flatten, MaxPooling1D, Dropout\n",
        "\n",
        "import numpy as np\n",
        "import pandas as pd\n",
        "import matplotlib.pyplot as plt\n",
        "\n",
        "from sklearn.model_selection import train_test_split\n",
        "from sklearn.metrics import confusion_matrix, roc_curve,  roc_auc_score, classification_report\n",
        "\n",
        "\n",
        "import logging\n",
        "\n",
        "\n",
        "logging.basicConfig(format='%(asctime)s : %(levelname) s : %(message)s', level=logging.INFO)\n",
        "\n",
        "\n",
        "np.random.seed(24)\n",
        "\n",
        "\n",
        "tweetsData = pd.read_csv('coronatweets.csv') \n",
        "tweetsData.head()\n",
        "\n",
        "\n",
        "tweets = tweetsData['full_text']\n",
        "labels = tweetsData['sent_score']\n",
        "\n",
        "\n",
        "labels_count = labels.value_counts()\n",
        "labels_count.plot(kind=\"bar\")\n",
        "print(labels.value_counts())\n",
        "\n",
        "\n",
        "tkr = RegexpTokenizer('[a-zA-Z@]+')\n",
        "\n",
        "tweets_split = []\n",
        "\n",
        "for i, line in enumerate(tweets):\n",
        "    \n",
        "    tweet = str(line).lower().split()\n",
        "    tweet = tkr.tokenize(str(tweet))\n",
        "    tweets_split.append(tweet)\n",
        "\n",
        "print(tweets_split[1])\n",
        "\n",
        "\n",
        "\n",
        "w2vModel = word2vec.KeyedVectors.load_word2vec_format('https://s3.amazonaws.com/dl4j-distribution/GoogleNews-vectors-negative300.bin.gz', binary=True, limit=50000)\n",
        "\n",
        "\n",
        "tokenizer = Tokenizer()\n",
        "tokenizer.fit_on_texts(tweets_split)\n",
        "X = tokenizer.texts_to_sequences(tweets_split)\n",
        "\n",
        "\n",
        "maxlentweet = 30\n",
        "\n",
        "X = pad_sequences(X, maxlen=maxlentweet)\n",
        "print(X.shape)\n",
        "\n",
        "\n",
        "embedding_layer = Embedding(input_dim=w2vModel.syn0.shape[0], output_dim=w2vModel.syn0.shape[1], weights=[w2vModel.syn0], \n",
        "                            input_length=X.shape[1])\n",
        "\n",
        "\n",
        "model = Sequential()\n",
        "model.add(embedding_layer)\n",
        "model.add(Conv1D(filters=64, kernel_size=5, activation='relu', padding='causal'))\n",
        "model.add(MaxPooling1D(pool_size=2))\n",
        "model.add(Dropout(0.7))\n",
        "model.add(Flatten())\n",
        "model.add(Dense(64, activation='sigmoid'))\n",
        "model.add(Dense(1, activation='sigmoid'))\n",
        "model.compile(loss='binary_crossentropy', optimizer='adam', metrics=['accuracy'])  \n",
        "print(model.summary())\n",
        "\n",
        "\n",
        "\n",
        "X_train, X_test, Y_train, Y_test = train_test_split(X, labels, test_size= 0.1, random_state = 24)\n",
        "\n",
        "\n",
        "batch_size = 40\n",
        "history=model.fit(X_train, Y_train, epochs=10, verbose=1, batch_size=batch_size, validation_split=0.2)          \n",
        "\n",
        "\n",
        "score, acc = model.evaluate(X_test, Y_test, verbose = 2, batch_size=batch_size)\n",
        "y_pred = model.predict(X_test)\n",
        "\n",
        "\n"
      ],
      "execution_count": null,
      "outputs": [
        {
          "output_type": "stream",
          "text": [
            "Using TensorFlow backend.\n"
          ],
          "name": "stderr"
        },
        {
          "output_type": "stream",
          "text": [
            " 1    6252\n",
            "-1    4210\n",
            " 0    1583\n",
            "Name: sent_score, dtype: int64\n"
          ],
          "name": "stdout"
        },
        {
          "output_type": "stream",
          "text": [
            "2020-06-04 06:08:51,279 : INFO : loading projection weights from https://s3.amazonaws.com/dl4j-distribution/GoogleNews-vectors-negative300.bin.gz\n"
          ],
          "name": "stderr"
        },
        {
          "output_type": "stream",
          "text": [
            "['itali', 'prove', 'pc', 'sometim', 'danger', 'note', 'covid', 'case', 'soar', 'sadli', 'idiot', 'hug', 'chines', 'day', 'meanwhil', 'chines', 'gov', 'use', 'propaganda', 'corona', 'chineseviru']\n"
          ],
          "name": "stdout"
        },
        {
          "output_type": "stream",
          "text": [
            "/usr/local/lib/python3.6/dist-packages/smart_open/smart_open_lib.py:253: UserWarning: This function is deprecated, use smart_open.open instead. See the migration notes for details: https://github.com/RaRe-Technologies/smart_open/blob/master/README.rst#migrating-to-the-new-open-function\n",
            "  'See the migration notes for details: %s' % _MIGRATION_NOTES_URL\n",
            "2020-06-04 06:08:53,494 : INFO : loaded (50000, 300) matrix from https://s3.amazonaws.com/dl4j-distribution/GoogleNews-vectors-negative300.bin.gz\n"
          ],
          "name": "stderr"
        },
        {
          "output_type": "stream",
          "text": [
            "(12045, 30)\n"
          ],
          "name": "stdout"
        },
        {
          "output_type": "stream",
          "text": [
            "/usr/local/lib/python3.6/dist-packages/ipykernel_launcher.py:69: DeprecationWarning: Call to deprecated `syn0` (Attribute will be removed in 4.0.0, use self.wv.vectors instead).\n"
          ],
          "name": "stderr"
        },
        {
          "output_type": "stream",
          "text": [
            "Model: \"sequential_1\"\n",
            "_________________________________________________________________\n",
            "Layer (type)                 Output Shape              Param #   \n",
            "=================================================================\n",
            "embedding_1 (Embedding)      (None, 30, 300)           15000000  \n",
            "_________________________________________________________________\n",
            "conv1d_1 (Conv1D)            (None, 30, 64)            96064     \n",
            "_________________________________________________________________\n",
            "max_pooling1d_1 (MaxPooling1 (None, 15, 64)            0         \n",
            "_________________________________________________________________\n",
            "dropout_1 (Dropout)          (None, 15, 64)            0         \n",
            "_________________________________________________________________\n",
            "flatten_1 (Flatten)          (None, 960)               0         \n",
            "_________________________________________________________________\n",
            "dense_1 (Dense)              (None, 64)                61504     \n",
            "_________________________________________________________________\n",
            "dense_2 (Dense)              (None, 1)                 65        \n",
            "=================================================================\n",
            "Total params: 15,157,633\n",
            "Trainable params: 15,157,633\n",
            "Non-trainable params: 0\n",
            "_________________________________________________________________\n",
            "None\n"
          ],
          "name": "stdout"
        },
        {
          "output_type": "stream",
          "text": [
            "/usr/local/lib/python3.6/dist-packages/tensorflow/python/framework/indexed_slices.py:434: UserWarning: Converting sparse IndexedSlices to a dense Tensor of unknown shape. This may consume a large amount of memory.\n",
            "  \"Converting sparse IndexedSlices to a dense Tensor of unknown shape. \"\n"
          ],
          "name": "stderr"
        },
        {
          "output_type": "stream",
          "text": [
            "Train on 8672 samples, validate on 2168 samples\n",
            "Epoch 1/10\n",
            "8672/8672 [==============================] - 47s 5ms/step - loss: 0.4203 - accuracy: 0.1358 - val_loss: 0.2733 - val_accuracy: 0.1296\n",
            "Epoch 2/10\n",
            "8672/8672 [==============================] - 46s 5ms/step - loss: -0.8447 - accuracy: 0.3333 - val_loss: -1.0684 - val_accuracy: 0.3727\n",
            "Epoch 3/10\n",
            "8672/8672 [==============================] - 45s 5ms/step - loss: -4.5609 - accuracy: 0.5001 - val_loss: -2.3540 - val_accuracy: 0.3713\n",
            "Epoch 4/10\n",
            "8672/8672 [==============================] - 45s 5ms/step - loss: -9.0706 - accuracy: 0.5661 - val_loss: -3.7785 - val_accuracy: 0.4248\n",
            "Epoch 5/10\n",
            "8672/8672 [==============================] - 47s 5ms/step - loss: -13.2058 - accuracy: 0.5868 - val_loss: -4.7626 - val_accuracy: 0.4548\n",
            "Epoch 6/10\n",
            "8672/8672 [==============================] - 45s 5ms/step - loss: -16.9214 - accuracy: 0.6040 - val_loss: -6.2400 - val_accuracy: 0.4474\n",
            "Epoch 7/10\n",
            "8672/8672 [==============================] - 45s 5ms/step - loss: -20.4408 - accuracy: 0.6143 - val_loss: -6.9103 - val_accuracy: 0.4128\n",
            "Epoch 8/10\n",
            "8672/8672 [==============================] - 45s 5ms/step - loss: -23.7959 - accuracy: 0.6215 - val_loss: -8.6097 - val_accuracy: 0.4488\n",
            "Epoch 9/10\n",
            "8672/8672 [==============================] - 46s 5ms/step - loss: -27.0309 - accuracy: 0.6235 - val_loss: -9.8414 - val_accuracy: 0.4640\n",
            "Epoch 10/10\n",
            "8672/8672 [==============================] - 46s 5ms/step - loss: -30.0761 - accuracy: 0.6272 - val_loss: -10.5903 - val_accuracy: 0.4497\n"
          ],
          "name": "stdout"
        },
        {
          "output_type": "display_data",
          "data": {
            "image/png": "[encoded data removed]",
            "text/plain": [
              "<Figure size 432x288 with 1 Axes>"
            ]
          },
          "metadata": {
            "tags": [],
            "needs_background": "light"
          }
        }
      ]
    },
    {
      "cell_type": "code",
      "metadata": {
        "id": "XQGO_nwaXxtA",
        "colab_type": "code",
        "colab": {
          "base_uri": "https://localhost:8080/",
          "height": 35
        },
        "outputId": "2e584bfb-c5c1-4f51-e1bf-7ca89be63c81"
      },
      "source": [
        "print(acc)"
      ],
      "execution_count": null,
      "outputs": [
        {
          "output_type": "stream",
          "text": [
            "0.4639004170894623\n"
          ],
          "name": "stdout"
        }
      ]
    }
  ]
}