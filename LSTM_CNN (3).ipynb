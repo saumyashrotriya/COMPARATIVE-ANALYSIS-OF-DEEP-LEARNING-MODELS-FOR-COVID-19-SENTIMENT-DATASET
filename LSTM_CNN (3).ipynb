{
  "nbformat": 4,
  "nbformat_minor": 0,
  "metadata": {
    "colab": {
      "name": "LSTM_CNN.ipynb",
      "provenance": [],
      "collapsed_sections": []
    },
    "kernelspec": {
      "name": "python3",
      "display_name": "Python 3"
    }
  },
  "cells": [
    {
      "cell_type": "code",
      "metadata": {
        "id": "kiuCyUDLhdw5",
        "colab_type": "code",
        "colab": {
          "base_uri": "https://localhost:8080/",
          "height": 219
        },
        "outputId": "01921aeb-6c69-4972-af75-341b1f24cdca"
      },
      "source": [
        "!wget -P /root/input/ -c \"https://s3.amazonaws.com/dl4j-distribution/GoogleNews-vectors-negative300.bin.gz\""
      ],
      "execution_count": null,
      "outputs": [
        {
          "output_type": "stream",
          "text": [
            "--2020-06-04 06:07:27--  https://s3.amazonaws.com/dl4j-distribution/GoogleNews-vectors-negative300.bin.gz\n",
            "Resolving s3.amazonaws.com (s3.amazonaws.com)... 52.217.9.102\n",
            "Connecting to s3.amazonaws.com (s3.amazonaws.com)|52.217.9.102|:443... connected.\n",
            "HTTP request sent, awaiting response... 200 OK\n",
            "Length: 1647046227 (1.5G) [application/x-gzip]\n",
            "Saving to: ‘/root/input/GoogleNews-vectors-negative300.bin.gz’\n",
            "\n",
            "GoogleNews-vectors- 100%[===================>]   1.53G  70.4MB/s    in 22s     \n",
            "\n",
            "2020-06-04 06:07:49 (71.9 MB/s) - ‘/root/input/GoogleNews-vectors-negative300.bin.gz’ saved [1647046227/1647046227]\n",
            "\n"
          ],
          "name": "stdout"
        }
      ]
    },
    {
      "cell_type": "code",
      "metadata": {
        "id": "pRQPRRJvhhII",
        "colab_type": "code",
        "colab": {
          "base_uri": "https://localhost:8080/",
          "height": 1000
        },
        "outputId": "13dd5723-f443-4168-fbd5-5aeae273a3ea"
      },
      "source": [
        "from keras.utils.vis_utils import plot_model\n",
        "import gensim.models.keyedvectors as word2vec\n",
        "from nltk.tokenize import RegexpTokenizer\n",
        "\n",
        "from keras.models import Sequential\n",
        "from keras.layers.embeddings import Embedding\n",
        "from keras.preprocessing.sequence import pad_sequences\n",
        "from keras.preprocessing.text import Tokenizer\n",
        "from keras.layers import LSTM, Conv1D, Dense, Flatten, MaxPooling1D, Dropout, SpatialDropout1D, Conv2D\n",
        "\n",
        "import numpy as np\n",
        "import pandas as pd\n",
        "import matplotlib.pyplot as plt\n",
        "\n",
        "from sklearn.model_selection import train_test_split, validation_curve\n",
        "from sklearn.linear_model import Ridge\n",
        "from sklearn.metrics import confusion_matrix, roc_curve,  roc_auc_score, classification_report\n",
        "\n",
        "import logging\n",
        "\n",
        "logging.basicConfig(format='%(asctime)s : %(levelname) s : %(message)s', level=logging.INFO)\n",
        "\n",
        "\n",
        "np.random.seed(24)\n",
        "tweetsData = pd.read_csv('coronatweets.csv')\n",
        "tweetsData.head()\n",
        "\n",
        "\n",
        "tweets = tweetsData['full_text']\n",
        "labels = tweetsData['sent_score']\n",
        "labels_count = labels.value_counts()\n",
        "labels_count.plot(kind=\"bar\")\n",
        "print(labels.value_counts())\n",
        "tkr = RegexpTokenizer('[a-zA-Z@]+')\n",
        "\n",
        "tweets_split = []\n",
        "\n",
        "for i, line in enumerate(tweets):\n",
        "    \n",
        "    tweet = str(line).lower().split()\n",
        "    tweet = tkr.tokenize(str(tweet))\n",
        "    tweets_split.append(tweet)\n",
        "\n",
        "print(tweets_split[1])\n",
        "w2vModel = word2vec.KeyedVectors.load_word2vec_format('/root/input/GoogleNews-vectors-negative300.bin.gz', binary=True, limit=50000)\n",
        "\n",
        "\n",
        "tokenizer = Tokenizer()\n",
        "tokenizer.fit_on_texts(tweets_split)\n",
        "X = tokenizer.texts_to_sequences(tweets_split)\n",
        "\n",
        "\n",
        "maxlentweet = 30\n",
        "X = pad_sequences(X, maxlen=maxlentweet)\n",
        "print(X.shape)\n",
        "\n",
        "\n",
        "embedding_layer = Embedding(input_dim=w2vModel.syn0.shape[0], output_dim=w2vModel.syn0.shape[1], weights=[w2vModel.syn0], \n",
        "                            input_length=X.shape[1])\n",
        "\n",
        "\n",
        "model = Sequential()\n",
        "model.add(embedding_layer)\n",
        "model.add(LSTM(100, return_sequences=True))\n",
        "model.add(Dropout(0.2))\n",
        "model.add(Dense(64, activation = 'relu'))\n",
        "model.add(Conv1D(filters=8, kernel_size= 5, activation ='relu', padding = 'causal'))\n",
        "model.add(Dropout(0.2))\n",
        "model.add(MaxPooling1D(pool_size=2))\n",
        "model.add(Flatten())\n",
        "model.add(Dense(64, activation='relu'))\n",
        "model.add(Dropout(0.2)) \n",
        "model.add(Dense(1, activation='softmax'))\n",
        "model.compile(loss='binary_crossentropy', optimizer='RMSprop', metrics=['accuracy'])\n",
        "print(model.summary())\n",
        "\n",
        "for layers in model.layers:\n",
        "  if(layers != 'embedding_layer'):\n",
        "    print(layers.output_shape)\n",
        "\n",
        "\n",
        "X_train, X_test, Y_train, Y_test = train_test_split(X, labels, test_size= 0.1, random_state = 24)\n",
        "\n",
        "\n",
        "batch_size = 32\n",
        "history=model.fit(X_train, Y_train, epochs=5, verbose=1, batch_size=batch_size, validation_split=0.2)          #10\n",
        "\n",
        "score, acc = model.evaluate(X_test, Y_test, verbose = 2, batch_size=batch_size)\n",
        "y_pred = model.predict(X_test)\n",
        "\n",
        "#from matplotlib import pyplot\n",
        "#from numpy import array\n",
        "\n",
        "#pyplot.plot(history.history['loss'])\n",
        "#pyplot.plot(history.history['val_loss'])\n",
        "#pyplot.title('model train vs validation loss')\n",
        "#pyplot.ylabel('loss')\n",
        "#pyplot.xlabel('epoch')\n",
        "#pyplot.ylim(0,1)\n",
        "#pyplot.plot(val_accuracy.astype(float))\n",
        "#pyplot.legend(['train', 'validation'], loc='upper right')\n",
        "#pyplot.show()\n",
        "\n"
      ],
      "execution_count": null,
      "outputs": [
        {
          "output_type": "stream",
          "text": [
            "2020-06-04 06:07:55,459 : INFO : loading projection weights from /root/input/GoogleNews-vectors-negative300.bin.gz\n"
          ],
          "name": "stderr"
        },
        {
          "output_type": "stream",
          "text": [
            " 1    6252\n",
            "-1    4210\n",
            " 0    1583\n",
            "Name: sent_score, dtype: int64\n",
            "['itali', 'prove', 'pc', 'sometim', 'danger', 'note', 'covid', 'case', 'soar', 'sadli', 'idiot', 'hug', 'chines', 'day', 'meanwhil', 'chines', 'gov', 'use', 'propaganda', 'corona', 'chineseviru']\n"
          ],
          "name": "stdout"
        },
        {
          "output_type": "stream",
          "text": [
            "/usr/local/lib/python3.6/dist-packages/smart_open/smart_open_lib.py:253: UserWarning: This function is deprecated, use smart_open.open instead. See the migration notes for details: https://github.com/RaRe-Technologies/smart_open/blob/master/README.rst#migrating-to-the-new-open-function\n",
            "  'See the migration notes for details: %s' % _MIGRATION_NOTES_URL\n",
            "2020-06-04 06:07:56,983 : INFO : loaded (50000, 300) matrix from /root/input/GoogleNews-vectors-negative300.bin.gz\n"
          ],
          "name": "stderr"
        },
        {
          "output_type": "stream",
          "text": [
            "(12045, 30)\n"
          ],
          "name": "stdout"
        },
        {
          "output_type": "stream",
          "text": [
            "/usr/local/lib/python3.6/dist-packages/ipykernel_launcher.py:58: DeprecationWarning: Call to deprecated `syn0` (Attribute will be removed in 4.0.0, use self.wv.vectors instead).\n"
          ],
          "name": "stderr"
        },
        {
          "output_type": "stream",
          "text": [
            "Model: \"sequential_1\"\n",
            "_________________________________________________________________\n",
            "Layer (type)                 Output Shape              Param #   \n",
            "=================================================================\n",
            "embedding_1 (Embedding)      (None, 30, 300)           15000000  \n",
            "_________________________________________________________________\n",
            "lstm_1 (LSTM)                (None, 30, 100)           160400    \n",
            "_________________________________________________________________\n",
            "dropout_1 (Dropout)          (None, 30, 100)           0         \n",
            "_________________________________________________________________\n",
            "dense_1 (Dense)              (None, 30, 64)            6464      \n",
            "_________________________________________________________________\n",
            "conv1d_1 (Conv1D)            (None, 30, 8)             2568      \n",
            "_________________________________________________________________\n",
            "dropout_2 (Dropout)          (None, 30, 8)             0         \n",
            "_________________________________________________________________\n",
            "max_pooling1d_1 (MaxPooling1 (None, 15, 8)             0         \n",
            "_________________________________________________________________\n",
            "flatten_1 (Flatten)          (None, 120)               0         \n",
            "_________________________________________________________________\n",
            "dense_2 (Dense)              (None, 64)                7744      \n",
            "_________________________________________________________________\n",
            "dropout_3 (Dropout)          (None, 64)                0         \n",
            "_________________________________________________________________\n",
            "dense_3 (Dense)              (None, 1)                 65        \n",
            "=================================================================\n",
            "Total params: 15,177,241\n",
            "Trainable params: 15,177,241\n",
            "Non-trainable params: 0\n",
            "_________________________________________________________________\n",
            "None\n",
            "(None, 30, 300)\n",
            "(None, 30, 100)\n",
            "(None, 30, 100)\n",
            "(None, 30, 64)\n",
            "(None, 30, 8)\n",
            "(None, 30, 8)\n",
            "(None, 15, 8)\n",
            "(None, 120)\n",
            "(None, 64)\n",
            "(None, 64)\n",
            "(None, 1)\n"
          ],
          "name": "stdout"
        },
        {
          "output_type": "stream",
          "text": [
            "/usr/local/lib/python3.6/dist-packages/tensorflow/python/framework/indexed_slices.py:434: UserWarning: Converting sparse IndexedSlices to a dense Tensor of unknown shape. This may consume a large amount of memory.\n",
            "  \"Converting sparse IndexedSlices to a dense Tensor of unknown shape. \"\n"
          ],
          "name": "stderr"
        },
        {
          "output_type": "stream",
          "text": [
            "Train on 8672 samples, validate on 2168 samples\n",
            "Epoch 1/5\n",
            "8672/8672 [==============================] - 59s 7ms/step - loss: 12.7412 - accuracy: 0.5181 - val_loss: 12.5342 - val_accuracy: 0.5244\n",
            "Epoch 2/5\n",
            "8672/8672 [==============================] - 59s 7ms/step - loss: 12.7412 - accuracy: 0.5181 - val_loss: 12.5342 - val_accuracy: 0.5244\n",
            "Epoch 3/5\n",
            "8672/8672 [==============================] - 59s 7ms/step - loss: 12.7412 - accuracy: 0.5181 - val_loss: 12.5342 - val_accuracy: 0.5244\n",
            "Epoch 4/5\n",
            "8672/8672 [==============================] - 58s 7ms/step - loss: 12.7412 - accuracy: 0.5181 - val_loss: 12.5342 - val_accuracy: 0.5244\n",
            "Epoch 5/5\n",
            "8672/8672 [==============================] - 58s 7ms/step - loss: 12.7412 - accuracy: 0.5181 - val_loss: 12.5342 - val_accuracy: 0.5244\n"
          ],
          "name": "stdout"
        },
        {
          "output_type": "display_data",
          "data": {
            "image/png": "[encoded data removed]",
            "text/plain": [
              "<Figure size 432x288 with 1 Axes>"
            ]
          },
          "metadata": {
            "tags": [],
            "needs_background": "light"
          }
        }
      ]
    },
    {
      "cell_type": "code",
      "metadata": {
        "id": "-p5aEzpjny09",
        "colab_type": "code",
        "colab": {
          "base_uri": "https://localhost:8080/",
          "height": 34
        },
        "outputId": "46aae2a4-ff6f-495a-f3a3-4a6ef51c903d"
      },
      "source": [
        "print(acc)"
      ],
      "execution_count": null,
      "outputs": [
        {
          "output_type": "stream",
          "text": [
            "0.5161826014518738\n"
          ],
          "name": "stdout"
        }
      ]
    }
  ]
}